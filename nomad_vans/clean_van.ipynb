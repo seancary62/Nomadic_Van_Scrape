{
 "cells": [
  {
   "cell_type": "code",
   "execution_count": 20,
   "metadata": {},
   "outputs": [
    {
     "name": "stderr",
     "output_type": "stream",
     "text": [
      "c:\\Users\\seanc\\anaconda3\\envs\\PythonData\\lib\\site-packages\\IPython\\core\\interactiveshell.py:3166: DtypeWarning: Columns (68,71,73) have mixed types.Specify dtype option on import or set low_memory=False.\n",
      "  interactivity=interactivity, compiler=compiler, result=result)\n"
     ]
    },
    {
     "data": {
      "text/plain": [
       "(44962, 80)"
      ]
     },
     "execution_count": 20,
     "metadata": {},
     "output_type": "execute_result"
    }
   ],
   "source": [
    "import pandas as pd\n",
    "\n",
    "df = pd.read_csv('van_comparison.csv')\n",
    "\n",
    "df.shape"
   ]
  },
  {
   "cell_type": "code",
   "execution_count": 21,
   "metadata": {},
   "outputs": [
    {
     "data": {
      "text/plain": [
       "Index(['barrels08', 'city08', 'city08U', 'cityA08', 'cityA08U', 'cityCD',\n",
       "       'cityE', 'cityUF', 'co2', 'co2A', 'co2TailpipeAGpm', 'co2TailpipeGpm',\n",
       "       'comb08', 'comb08U', 'combA08', 'combA08U', 'combE', 'combinedCD',\n",
       "       'combinedUF', 'cylinders', 'displ', 'drive', 'engId', 'eng_dscr',\n",
       "       'feScore', 'fuelCost08', 'fuelCostA08', 'fuelType', 'fuelType1',\n",
       "       'ghgScore', 'ghgScoreA', 'highway08', 'highway08U', 'highwayA08',\n",
       "       'highwayA08U', 'highwayCD', 'highwayE', 'highwayUF', 'hlv', 'hpv', 'id',\n",
       "       'lv2', 'lv4', 'make', 'model', 'mpgData', 'phevBlended', 'pv2', 'pv4',\n",
       "       'range', 'rangeCity', 'rangeCityA', 'rangeHwy', 'rangeHwyA', 'trany',\n",
       "       'UCity', 'UCityA', 'UHighway', 'UHighwayA', 'VClass', 'year',\n",
       "       'youSaveSpend', 'guzzler', 'trans_dscr', 'tCharger', 'sCharger',\n",
       "       'atvType', 'fuelType2', 'rangeA', 'evMotor', 'mfrCode', 'c240Dscr',\n",
       "       'charge240b', 'c240bDscr', 'createdOn', 'modifiedOn', 'startStop',\n",
       "       'phevCity', 'phevHwy', 'phevComb'],\n",
       "      dtype='object')"
      ]
     },
     "execution_count": 21,
     "metadata": {},
     "output_type": "execute_result"
    }
   ],
   "source": [
    "df.columns"
   ]
  },
  {
   "cell_type": "code",
   "execution_count": 22,
   "metadata": {},
   "outputs": [
    {
     "data": {
      "text/plain": [
       "(1904, 80)"
      ]
     },
     "execution_count": 22,
     "metadata": {},
     "output_type": "execute_result"
    }
   ],
   "source": [
    "df_vans = df[df.VClass.str.match('V.*')]\n",
    "df_vans.shape"
   ]
  },
  {
   "cell_type": "code",
   "execution_count": 19,
   "metadata": {},
   "outputs": [],
   "source": [
    "df_vans.to_csv('vans_all.csv')"
   ]
  },
  {
   "cell_type": "code",
   "execution_count": null,
   "metadata": {},
   "outputs": [],
   "source": []
  }
 ],
 "metadata": {
  "interpreter": {
   "hash": "29b289e9374ca0e59d3541416aa34c78bdf45934bcf94c584d62d9eecc0228eb"
  },
  "kernelspec": {
   "display_name": "Python 3.7.10 ('PythonData')",
   "language": "python",
   "name": "python3"
  },
  "language_info": {
   "codemirror_mode": {
    "name": "ipython",
    "version": 3
   },
   "file_extension": ".py",
   "mimetype": "text/x-python",
   "name": "python",
   "nbconvert_exporter": "python",
   "pygments_lexer": "ipython3",
   "version": "3.7.10"
  },
  "orig_nbformat": 4
 },
 "nbformat": 4,
 "nbformat_minor": 2
}
